{
  "nbformat": 4,
  "nbformat_minor": 0,
  "metadata": {
    "colab": {
      "name": "ECB encription.ipynb",
      "provenance": [],
      "collapsed_sections": [],
      "authorship_tag": "ABX9TyOsuk5PNat8HlEa0NudrqVQ",
      "include_colab_link": true
    },
    "kernelspec": {
      "name": "python3",
      "display_name": "Python 3"
    },
    "language_info": {
      "name": "python"
    }
  },
  "cells": [
    {
      "cell_type": "markdown",
      "metadata": {
        "id": "view-in-github",
        "colab_type": "text"
      },
      "source": [
        "<a href=\"https://colab.research.google.com/github/natravous/criptography/blob/block_cipher/ECB_encription.ipynb\" target=\"_parent\"><img src=\"https://colab.research.google.com/assets/colab-badge.svg\" alt=\"Open In Colab\"/></a>"
      ]
    },
    {
      "cell_type": "code",
      "metadata": {
        "colab": {
          "base_uri": "https://localhost:8080/"
        },
        "id": "T2J7K_XqtC8x",
        "outputId": "263195f7-b74b-4e80-fc6b-6778470e4486"
      },
      "source": [
        "pip install pycrypto"
      ],
      "execution_count": null,
      "outputs": [
        {
          "output_type": "stream",
          "text": [
            "Requirement already satisfied: pycrypto in /usr/local/lib/python3.7/dist-packages (2.6.1)\n"
          ],
          "name": "stdout"
        }
      ]
    },
    {
      "cell_type": "code",
      "metadata": {
        "id": "P1-6WM8GtJR4"
      },
      "source": [
        "from Crypto.Cipher import AES"
      ],
      "execution_count": null,
      "outputs": []
    },
    {
      "cell_type": "code",
      "metadata": {
        "id": "-dwC9htNtPVM"
      },
      "source": [
        "key = \"abcdefghijklmnop\""
      ],
      "execution_count": null,
      "outputs": []
    },
    {
      "cell_type": "code",
      "metadata": {
        "colab": {
          "base_uri": "https://localhost:8080/"
        },
        "id": "8Kt5nMnMtR2w",
        "outputId": "48a41c7b-1975-4e86-8a83-b8b64413eaa1"
      },
      "source": [
        "msg = AES.new(key, AES.MODE_ECB)\n",
        "print(msg)"
      ],
      "execution_count": null,
      "outputs": [
        {
          "output_type": "stream",
          "text": [
            "<Crypto.Cipher.AES.AESCipher object at 0x7f29545e2e10>\n"
          ],
          "name": "stdout"
        }
      ]
    },
    {
      "cell_type": "code",
      "metadata": {
        "colab": {
          "base_uri": "https://localhost:8080/"
        },
        "id": "CBYiSO6dt9Bm",
        "outputId": "fdbf725c-d24d-4f57-b851-cac7d7ed8a0f"
      },
      "source": [
        "plainText = \"aku adalah dosen\"\n",
        "print(\"Pesan harus mempunyai panjang 16 bit atau kelipatannya = \" + plainText)"
      ],
      "execution_count": null,
      "outputs": [
        {
          "output_type": "stream",
          "text": [
            "Pesan harus mempunyai panjang 16 bit atau kelipatannya = aku adalah dosen\n"
          ],
          "name": "stdout"
        }
      ]
    },
    {
      "cell_type": "markdown",
      "metadata": {
        "id": "CLoc6JGYydMP"
      },
      "source": [
        "# **encription**"
      ]
    },
    {
      "cell_type": "code",
      "metadata": {
        "colab": {
          "base_uri": "https://localhost:8080/"
        },
        "id": "9twPgsUZt4Uc",
        "outputId": "8c73008b-5541-4224-86ce-9d73726620cb"
      },
      "source": [
        "# pesan setelah dienkripsi\n",
        "encript = msg.encrypt(plainText)\n",
        "print(type(encript))\n",
        "print(encript)\n",
        "\n",
        "# hex\n",
        "print(type(encript.hex()))\n",
        "hex = encript.hex()\n",
        "print(\"Pesan setelah dienkripsi \\n\" + hex)"
      ],
      "execution_count": null,
      "outputs": [
        {
          "output_type": "stream",
          "text": [
            "<class 'bytes'>\n",
            "b'\\x00\\x845\\xd6\\xb9\\xd0r+-\\xfe.\\xa4\\xa8\\x11v\\x8d'\n",
            "<class 'str'>\n",
            "Pesan setelah dienkripsi \n",
            "008435d6b9d0722b2dfe2ea4a811768d\n"
          ],
          "name": "stdout"
        }
      ]
    },
    {
      "cell_type": "markdown",
      "metadata": {
        "id": "MBTb58tyymac"
      },
      "source": [
        "# **decription**"
      ]
    },
    {
      "cell_type": "code",
      "metadata": {
        "colab": {
          "base_uri": "https://localhost:8080/"
        },
        "id": "tXt-MPfpvui_",
        "outputId": "124ffe03-5af2-42a9-e65d-bc7add86537a"
      },
      "source": [
        "# cipher text didekripsi\n",
        "decript = msg.decrypt(encript)\n",
        "print(type(decript))\n",
        "print(decript)\n",
        "\n",
        "cipherText = decript.decode()\n",
        "print(type(decript.decode()))\n",
        "print(\"Pesan setelah didekripsi \\n\" + cipherText)"
      ],
      "execution_count": null,
      "outputs": [
        {
          "output_type": "stream",
          "text": [
            "<class 'bytes'>\n",
            "b'aku adalah dosen'\n",
            "<class 'str'>\n",
            "Pesan setelah didekripsi \n",
            "aku adalah dosen\n"
          ],
          "name": "stdout"
        }
      ]
    },
    {
      "cell_type": "code",
      "metadata": {
        "id": "5QdHfgJvwAzG"
      },
      "source": [
        ""
      ],
      "execution_count": null,
      "outputs": []
    }
  ]
}